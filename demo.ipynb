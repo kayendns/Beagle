{
 "cells": [
  {
   "cell_type": "markdown",
   "metadata": {},
   "source": [
    "# Beagle"
   ]
  },
  {
   "cell_type": "markdown",
   "metadata": {},
   "source": [
    "## Setup"
   ]
  },
  {
   "cell_type": "code",
   "execution_count": 1,
   "metadata": {},
   "outputs": [],
   "source": [
    "from src.embedder import Embedder\n",
    "from src.search_engine import SearchEngine\n",
    "from src.database_manager import DatabaseManager\n",
    "from src.content_manager import ContentManager\n",
    "\n",
    "# Don't be fooled by the name. The embeddings are float16 tensors.\n",
    "embedder = Embedder(\"ViT-B/32\")\n",
    "database_manager = DatabaseManager()\n",
    "\n",
    "engine = SearchEngine(database_manager)\n",
    "\n",
    "content_manager = ContentManager(database_manager, embedder)\n",
    "\n",
    "content_manager.process_input_file(\"scope.txt\")"
   ]
  },
  {
   "cell_type": "markdown",
   "metadata": {},
   "source": [
    "# Querying the database"
   ]
  },
  {
   "cell_type": "code",
   "execution_count": 2,
   "metadata": {},
   "outputs": [
    {
     "name": "stdout",
     "output_type": "stream",
     "text": [
      "File res/1.png has a similarity of  0.24 to your query\n",
      "File res/6.png has a similarity of  0.24 to your query\n",
      "File res/4.png has a similarity of  0.23 to your query\n",
      "File res/3.png has a similarity of  0.21 to your query\n",
      "File res/2.png has a similarity of  0.19 to your query\n",
      "File res/5.png has a similarity of  0.19 to your query\n",
      "File res/7.png has a similarity of  0.17 to your query\n"
     ]
    }
   ],
   "source": [
    "query_embedding = embedder.embedText(\"Army\")\n",
    "\n",
    "for file_path, similarity in engine.search_for(query_embedding):\n",
    "    print(f\"File {file_path} has a similarity of {similarity[0]: .2f} to your query\")"
   ]
  },
  {
   "cell_type": "code",
   "execution_count": null,
   "metadata": {},
   "outputs": [],
   "source": []
  }
 ],
 "metadata": {
  "kernelspec": {
   "display_name": "XAI",
   "language": "python",
   "name": "python3"
  },
  "language_info": {
   "codemirror_mode": {
    "name": "ipython",
    "version": 3
   },
   "file_extension": ".py",
   "mimetype": "text/x-python",
   "name": "python",
   "nbconvert_exporter": "python",
   "pygments_lexer": "ipython3",
   "version": "3.8.17"
  }
 },
 "nbformat": 4,
 "nbformat_minor": 2
}
