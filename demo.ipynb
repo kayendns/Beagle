{
 "cells": [
  {
   "cell_type": "markdown",
   "metadata": {},
   "source": [
    "# Beagle"
   ]
  },
  {
   "cell_type": "markdown",
   "metadata": {},
   "source": [
    "## Run Webserver to handle queries"
   ]
  },
  {
   "cell_type": "code",
   "execution_count": null,
   "metadata": {},
   "outputs": [],
   "source": [
    "from flask import Flask, jsonify, request\n",
    "from flask_cors import CORS\n",
    "import threading\n",
    "from src.embedder import Embedder\n",
    "from src.search_engine import SearchEngine\n",
    "from src.database_manager import DatabaseManager\n",
    "from src.content_manager import ContentManager\n",
    "\n",
    "\n",
    "# Create a Flask application\n",
    "app = Flask(__name__)\n",
    "\n",
    "# Enable CORS for all routes\n",
    "CORS(app)\n",
    "\n",
    "# Don't be fooled by the name. The embeddings are float16 tensors.\n",
    "embedder = Embedder(\"ViT-B/32\")\n",
    "database_manager = DatabaseManager()\n",
    "\n",
    "engine = SearchEngine(database_manager)\n",
    "\n",
    "content_manager = ContentManager(database_manager, embedder)\n",
    "\n",
    "content_manager.process_input_file(\"scope.txt\")\n",
    "\n",
    "# Define the search route\n",
    "@app.route('/search', methods=['GET'])\n",
    "def search():\n",
    "    query = request.args.get('query', '')\n",
    "    query_embedding = embedder.embedText(query)\n",
    "    \n",
    "    return jsonify(engine.search_for(query_embedding))\n",
    "\n",
    "def run_app():\n",
    "    app.run(port=5000)\n",
    "\n",
    "# Run the Flask app in a separate thread\n",
    "flask_thread = threading.Thread(target=run_app)\n",
    "flask_thread.start()\n"
   ]
  },
  {
   "cell_type": "code",
   "execution_count": null,
   "metadata": {},
   "outputs": [],
   "source": []
  }
 ],
 "metadata": {
  "kernelspec": {
   "display_name": "XAI",
   "language": "python",
   "name": "python3"
  },
  "language_info": {
   "codemirror_mode": {
    "name": "ipython",
    "version": 3
   },
   "file_extension": ".py",
   "mimetype": "text/x-python",
   "name": "python",
   "nbconvert_exporter": "python",
   "pygments_lexer": "ipython3",
   "version": "3.8.17"
  }
 },
 "nbformat": 4,
 "nbformat_minor": 2
}
